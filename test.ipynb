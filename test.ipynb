{
 "cells": [
  {
   "cell_type": "code",
   "execution_count": 13,
   "metadata": {},
   "outputs": [
    {
     "data": {
      "text/plain": [
       "===============================================================================================\n",
       "Layer (type:depth-idx)                        Output Shape              Param #\n",
       "===============================================================================================\n",
       "Encoder                                       [32, 2]                   --\n",
       "├─Sequential: 1-1                             [32, 512]                 --\n",
       "│    └─depthwise_separable_conv: 2-1          [32, 64, 28, 28]          --\n",
       "│    │    └─Conv2d: 3-1                       [32, 1, 28, 28]           9\n",
       "│    │    └─Conv2d: 3-2                       [32, 64, 28, 28]          64\n",
       "│    └─ReLU: 2-2                              [32, 64, 28, 28]          --\n",
       "│    └─MaxPool2d: 2-3                         [32, 64, 14, 14]          --\n",
       "│    └─depthwise_separable_conv: 2-4          [32, 128, 14, 14]         --\n",
       "│    │    └─Conv2d: 3-3                       [32, 64, 14, 14]          576\n",
       "│    │    └─Conv2d: 3-4                       [32, 128, 14, 14]         8,192\n",
       "│    └─ReLU: 2-5                              [32, 128, 14, 14]         --\n",
       "│    └─MaxPool2d: 2-6                         [32, 128, 7, 7]           --\n",
       "│    └─depthwise_separable_conv: 2-7          [32, 256, 7, 7]           --\n",
       "│    │    └─Conv2d: 3-5                       [32, 128, 7, 7]           1,152\n",
       "│    │    └─Conv2d: 3-6                       [32, 256, 7, 7]           32,768\n",
       "│    └─ReLU: 2-8                              [32, 256, 7, 7]           --\n",
       "│    └─MaxPool2d: 2-9                         [32, 256, 3, 3]           --\n",
       "│    └─depthwise_separable_conv: 2-10         [32, 512, 3, 3]           --\n",
       "│    │    └─Conv2d: 3-7                       [32, 256, 3, 3]           2,304\n",
       "│    │    └─Conv2d: 3-8                       [32, 512, 3, 3]           131,072\n",
       "│    └─ReLU: 2-11                             [32, 512, 3, 3]           --\n",
       "│    └─MaxPool2d: 2-12                        [32, 512, 1, 1]           --\n",
       "│    └─Flatten: 2-13                          [32, 512]                 --\n",
       "├─Linear: 1-2                                 [32, 2]                   1,026\n",
       "├─Linear: 1-3                                 [32, 2]                   1,026\n",
       "===============================================================================================\n",
       "Total params: 178,189\n",
       "Trainable params: 178,189\n",
       "Non-trainable params: 0\n",
       "Total mult-adds (M): 148.49\n",
       "===============================================================================================\n",
       "Input size (MB): 0.10\n",
       "Forward/backward pass size (MB): 29.27\n",
       "Params size (MB): 0.71\n",
       "Estimated Total Size (MB): 30.08\n",
       "==============================================================================================="
      ]
     },
     "execution_count": 13,
     "metadata": {},
     "output_type": "execute_result"
    }
   ],
   "source": [
    "from torchinfo import summary\n",
    "from network import Encoder,Decoder,AutoEncoder\n",
    "from torchinfo import summary      \n",
    "summary(Encoder(),(32,1,28,28)) \n",
    "# summary(Decoder(),(32,2))\n",
    "# summary(Decoder(),(32,2))"
   ]
  }
 ],
 "metadata": {
  "kernelspec": {
   "display_name": "base",
   "language": "python",
   "name": "python3"
  },
  "language_info": {
   "codemirror_mode": {
    "name": "ipython",
    "version": 3
   },
   "file_extension": ".py",
   "mimetype": "text/x-python",
   "name": "python",
   "nbconvert_exporter": "python",
   "pygments_lexer": "ipython3",
   "version": "3.10.13"
  },
  "orig_nbformat": 4
 },
 "nbformat": 4,
 "nbformat_minor": 2
}
